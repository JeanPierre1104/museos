# importar la libreria pandas para graficar el análisis y manipulación de datos tabulares.
import pandas as pd
# Registra los convertidores de fechas y horas de Pandas para su uso con Matplotlib. 
# Esto garantiza que las fechas y horas se representen correctamente en los gráficos generados por Matplotlib.
pd.plotting.register_matplotlib_converters()
# Matplotlib es una biblioteca popular para la visualización de datos en Python, y pyplot proporciona una interfaz similar a MATLAB para crear gráficos y trazados.
import matplotlib.pyplot as plt
%matplotlib inline
# Importa la biblioteca Seaborn, que es una extensión de Matplotlib y proporciona estilos y funciones adicionales para mejorar la visualización de datos.
import seaborn as sns
print("Setup Complete")

